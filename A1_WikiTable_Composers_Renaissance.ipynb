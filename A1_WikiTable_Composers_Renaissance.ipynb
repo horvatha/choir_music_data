{
 "cells": [
  {
   "cell_type": "markdown",
   "metadata": {
    "toc": true
   },
   "source": [
    "<h1>Table of Contents<span class=\"tocSkip\"></span></h1>\n",
    "<div class=\"toc\"><ul class=\"toc-item\"><li><span><a href=\"#URLs\" data-toc-modified-id=\"URLs-1\"><span class=\"toc-item-num\">1&nbsp;&nbsp;</span>URLs</a></span></li><li><span><a href=\"#Request-&amp;-Response\" data-toc-modified-id=\"Request-&amp;-Response-2\"><span class=\"toc-item-num\">2&nbsp;&nbsp;</span>Request &amp; Response</a></span></li><li><span><a href=\"#Wrangling-HTML-With-BeautifulSoup\" data-toc-modified-id=\"Wrangling-HTML-With-BeautifulSoup-3\"><span class=\"toc-item-num\">3&nbsp;&nbsp;</span>Wrangling HTML With BeautifulSoup</a></span></li><li><span><a href=\"#Title-of-HTML-content\" data-toc-modified-id=\"Title-of-HTML-content-4\"><span class=\"toc-item-num\">4&nbsp;&nbsp;</span>Title of HTML content</a></span></li><li><span><a href=\"#Find-All-Tables\" data-toc-modified-id=\"Find-All-Tables-5\"><span class=\"toc-item-num\">5&nbsp;&nbsp;</span>Find All Tables</a></span></li><li><span><a href=\"#Find-Right-Table-to-scrap\" data-toc-modified-id=\"Find-Right-Table-to-scrap-6\"><span class=\"toc-item-num\">6&nbsp;&nbsp;</span>Find Right Table to scrap</a></span></li><li><span><a href=\"#Number-of-Columns\" data-toc-modified-id=\"Number-of-Columns-7\"><span class=\"toc-item-num\">7&nbsp;&nbsp;</span>Number of Columns</a></span></li><li><span><a href=\"#Get-the-Rows\" data-toc-modified-id=\"Get-the-Rows-8\"><span class=\"toc-item-num\">8&nbsp;&nbsp;</span>Get the Rows</a></span></li><li><span><a href=\"#Get-Table-Header-Attributes\" data-toc-modified-id=\"Get-Table-Header-Attributes-9\"><span class=\"toc-item-num\">9&nbsp;&nbsp;</span>Get Table Header Attributes</a></span></li><li><span><a href=\"#Get-Tablular-Data\" data-toc-modified-id=\"Get-Tablular-Data-10\"><span class=\"toc-item-num\">10&nbsp;&nbsp;</span>Get Tablular Data</a></span><ul class=\"toc-item\"><li><span><a href=\"#Data-Analysis\" data-toc-modified-id=\"Data-Analysis-10.1\"><span class=\"toc-item-num\">10.1&nbsp;&nbsp;</span>Data Analysis</a></span></li><li><span><a href=\"#Scrap-the-Data\" data-toc-modified-id=\"Scrap-the-Data-10.2\"><span class=\"toc-item-num\">10.2&nbsp;&nbsp;</span>Scrap the Data</a></span></li><li><span><a href=\"#Create-Dictionary\" data-toc-modified-id=\"Create-Dictionary-10.3\"><span class=\"toc-item-num\">10.3&nbsp;&nbsp;</span>Create Dictionary</a></span></li><li><span><a href=\"#Create-DataFrame\" data-toc-modified-id=\"Create-DataFrame-10.4\"><span class=\"toc-item-num\">10.4&nbsp;&nbsp;</span>Create DataFrame</a></span></li><li><span><a href=\"#Rename-DataFrame-Columns\" data-toc-modified-id=\"Rename-DataFrame-Columns-10.5\"><span class=\"toc-item-num\">10.5&nbsp;&nbsp;</span>Rename DataFrame Columns</a></span></li><li><span><a href=\"#Top-5-Countries-with-Highest-Population\" data-toc-modified-id=\"Top-5-Countries-with-Highest-Population-10.6\"><span class=\"toc-item-num\">10.6&nbsp;&nbsp;</span>Top 5 Countries with Highest Population</a></span></li><li><span><a href=\"#Lets-do-some-Clean-Up-!\" data-toc-modified-id=\"Lets-do-some-Clean-Up-!-10.7\"><span class=\"toc-item-num\">10.7&nbsp;&nbsp;</span>Lets do some Clean Up !</a></span></li></ul></li><li><span><a href=\"#Visuals\" data-toc-modified-id=\"Visuals-11\"><span class=\"toc-item-num\">11&nbsp;&nbsp;</span>Visuals</a></span></li></ul></div>"
   ]
  },
  {
   "cell_type": "code",
   "execution_count": 2,
   "metadata": {},
   "outputs": [],
   "source": [
    "# for performing your HTTP requests\n",
    "import requests  \n",
    "\n",
    "# for xml & html scrapping \n",
    "from bs4 import BeautifulSoup \n",
    "\n",
    "# for table analysis\n",
    "import pandas as pd\n",
    "\n",
    "# write to csv\n",
    "import csv\n",
    "\n",
    "# Time\n",
    "import time\n",
    "\n",
    "#Visuals\n",
    "import matplotlib.pyplot as plt\n",
    "\n",
    "import numpy as np"
   ]
  },
  {
   "cell_type": "markdown",
   "metadata": {},
   "source": [
    "## URLs"
   ]
  },
  {
   "cell_type": "code",
   "execution_count": 3,
   "metadata": {},
   "outputs": [],
   "source": [
    "# url of wikipedia page from which you want to scrap tabular data.\n",
    "url1 = \"https://en.wikipedia.org/wiki/List_of_Renaissance_composers\""
   ]
  },
  {
   "cell_type": "markdown",
   "metadata": {},
   "source": [
    "## Request & Response"
   ]
  },
  {
   "cell_type": "code",
   "execution_count": 4,
   "metadata": {},
   "outputs": [
    {
     "data": {
      "text/plain": [
       "<Response [200]>"
      ]
     },
     "execution_count": 4,
     "metadata": {},
     "output_type": "execute_result"
    }
   ],
   "source": [
    "# Session helps to object allows you to persist certain parameters across requests\n",
    "# By default, Request will keep waiting for a response indefinitely. Therefore, it is advised to set the timeout parameter.\n",
    "# If the request was successful, you should see the reponse output as '200'.\n",
    "s = requests.Session()\n",
    "response = s.get(url1, timeout=10)\n",
    "#response2 = s.get(url2, timeout=5)\n",
    "response\n"
   ]
  },
  {
   "cell_type": "markdown",
   "metadata": {},
   "source": [
    "## Wrangling HTML With BeautifulSoup"
   ]
  },
  {
   "cell_type": "code",
   "execution_count": 5,
   "metadata": {},
   "outputs": [],
   "source": [
    "# parse response content to html\n",
    "soup = BeautifulSoup(response.content, 'html.parser')"
   ]
  },
  {
   "cell_type": "code",
   "execution_count": 8,
   "metadata": {},
   "outputs": [],
   "source": [
    "# to view the content in html format\n",
    "pretty_soup = soup.prettify()\n",
    "# print(pretty_soup)"
   ]
  },
  {
   "cell_type": "markdown",
   "metadata": {},
   "source": [
    "## Title of HTML content"
   ]
  },
  {
   "cell_type": "code",
   "execution_count": 9,
   "metadata": {},
   "outputs": [
    {
     "data": {
      "text/plain": [
       "'List of Renaissance composers - Wikipedia'"
      ]
     },
     "execution_count": 9,
     "metadata": {},
     "output_type": "execute_result"
    }
   ],
   "source": [
    "# title of Wikipedia page\n",
    "soup.title.string"
   ]
  },
  {
   "cell_type": "markdown",
   "metadata": {},
   "source": [
    "## Find All Tables"
   ]
  },
  {
   "cell_type": "code",
   "execution_count": 10,
   "metadata": {},
   "outputs": [],
   "source": [
    "# find all the tables in the html\n",
    "all_tables=soup.find_all('table')"
   ]
  },
  {
   "cell_type": "markdown",
   "metadata": {},
   "source": [
    "## Find Right Table to scrap"
   ]
  },
  {
   "cell_type": "code",
   "execution_count": 11,
   "metadata": {},
   "outputs": [],
   "source": [
    "# get right table to scrap\n",
    "right_table=soup.find('table', {\"class\":'wikitable sortable'})"
   ]
  },
  {
   "cell_type": "code",
   "execution_count": 46,
   "metadata": {},
   "outputs": [],
   "source": [
    "# get right table to scrap\n",
    "right_tables=soup.find_all('table', {\"class\":'wikitable sortable'})"
   ]
  },
  {
   "cell_type": "code",
   "execution_count": 48,
   "metadata": {},
   "outputs": [],
   "source": [
    "right_table = right_tables[1]"
   ]
  },
  {
   "cell_type": "markdown",
   "metadata": {},
   "source": [
    "## Number of Columns"
   ]
  },
  {
   "cell_type": "code",
   "execution_count": 1,
   "metadata": {},
   "outputs": [
    {
     "ename": "NameError",
     "evalue": "name 'right_table' is not defined",
     "output_type": "error",
     "traceback": [
      "\u001b[0;31m---------------------------------------------------------------------------\u001b[0m",
      "\u001b[0;31mNameError\u001b[0m                                 Traceback (most recent call last)",
      "\u001b[0;32m/tmp/ipykernel_32752/1029744985.py\u001b[0m in \u001b[0;36m<module>\u001b[0;34m\u001b[0m\n\u001b[1;32m      1\u001b[0m \u001b[0;31m# Number of columns in the table\u001b[0m\u001b[0;34m\u001b[0m\u001b[0;34m\u001b[0m\u001b[0;34m\u001b[0m\u001b[0m\n\u001b[0;32m----> 2\u001b[0;31m \u001b[0;32mfor\u001b[0m \u001b[0mrow\u001b[0m \u001b[0;32min\u001b[0m \u001b[0mright_table\u001b[0m\u001b[0;34m.\u001b[0m\u001b[0mfindAll\u001b[0m\u001b[0;34m(\u001b[0m\u001b[0;34m\"tr\"\u001b[0m\u001b[0;34m)\u001b[0m\u001b[0;34m:\u001b[0m\u001b[0;34m\u001b[0m\u001b[0;34m\u001b[0m\u001b[0m\n\u001b[0m\u001b[1;32m      3\u001b[0m     \u001b[0mcells\u001b[0m \u001b[0;34m=\u001b[0m \u001b[0mrow\u001b[0m\u001b[0;34m.\u001b[0m\u001b[0mfindAll\u001b[0m\u001b[0;34m(\u001b[0m\u001b[0;34m'td'\u001b[0m\u001b[0;34m)\u001b[0m\u001b[0;34m\u001b[0m\u001b[0;34m\u001b[0m\u001b[0m\n\u001b[1;32m      4\u001b[0m     \u001b[0mprint\u001b[0m\u001b[0;34m(\u001b[0m\u001b[0mlen\u001b[0m\u001b[0;34m(\u001b[0m\u001b[0mcells\u001b[0m\u001b[0;34m)\u001b[0m\u001b[0;34m)\u001b[0m\u001b[0;34m\u001b[0m\u001b[0;34m\u001b[0m\u001b[0m\n\u001b[1;32m      5\u001b[0m \u001b[0;34m\u001b[0m\u001b[0m\n",
      "\u001b[0;31mNameError\u001b[0m: name 'right_table' is not defined"
     ]
    }
   ],
   "source": [
    "# Number of columns in the table\n",
    "for row in right_table.findAll(\"tr\"):\n",
    "    cells = row.findAll('td')\n",
    "    print(len(cells))\n",
    "\n",
    "len(cells)"
   ]
  },
  {
   "cell_type": "markdown",
   "metadata": {},
   "source": [
    "## Get the Rows"
   ]
  },
  {
   "cell_type": "code",
   "execution_count": 50,
   "metadata": {},
   "outputs": [
    {
     "data": {
      "text/plain": [
       "16"
      ]
     },
     "execution_count": 50,
     "metadata": {},
     "output_type": "execute_result"
    }
   ],
   "source": [
    "# number of rows in the table including header\n",
    "rows = right_table.findAll(\"tr\")\n",
    "len(rows)"
   ]
  },
  {
   "cell_type": "markdown",
   "metadata": {},
   "source": [
    "## Get Table Header Attributes"
   ]
  },
  {
   "cell_type": "code",
   "execution_count": 51,
   "metadata": {},
   "outputs": [
    {
     "name": "stdout",
     "output_type": "stream",
     "text": [
      "['Name', 'Born', 'Died', 'Notes']\n",
      "------------\n",
      "4\n"
     ]
    }
   ],
   "source": [
    "# header attributes of the table\n",
    "header = [th.text.rstrip() for th in rows[0].find_all('th')]\n",
    "print(header)\n",
    "print('------------')\n",
    "print(len(header))"
   ]
  },
  {
   "cell_type": "markdown",
   "metadata": {},
   "source": [
    "## Get Tablular Data"
   ]
  },
  {
   "cell_type": "markdown",
   "metadata": {},
   "source": [
    "### Data Analysis"
   ]
  },
  {
   "cell_type": "code",
   "execution_count": 52,
   "metadata": {},
   "outputs": [],
   "source": [
    "first_data_row = 1  # Usually 1, but if the header has 2 rows, it is 2"
   ]
  },
  {
   "cell_type": "code",
   "execution_count": 53,
   "metadata": {},
   "outputs": [],
   "source": [
    "lst_data_raw = []\n",
    "for row in rows[first_data_row:]:\n",
    "    tds = row.select('td')\n",
    "    name_col = tds[0]\n",
    "    href = name_col.a['href']\n",
    "    article = href.split('/')[-1] if href.startswith('/wiki') else ''\n",
    "    data = [article, name_col.text.rstrip()]\n",
    "    data.extend([d.text.rstrip() for d in tds[1:]])\n",
    "    lst_data_raw.append(data)"
   ]
  },
  {
   "cell_type": "code",
   "execution_count": 54,
   "metadata": {},
   "outputs": [],
   "source": [
    "for row in rows[first_data_row:]:\n",
    "    tds = row.select('td')\n",
    "    name_col = tds[0]\n",
    "    href = name_col.a['href']\n",
    "    if not href.startswith('/wiki'):\n",
    "        print(href)"
   ]
  },
  {
   "cell_type": "code",
   "execution_count": 57,
   "metadata": {},
   "outputs": [
    {
     "data": {
      "text/plain": [
       "[['Pycard',\n",
       "  'Pycard',\n",
       "  ' fl. c. 1390',\n",
       "  'after c. 1410',\n",
       "  'Has works preserved in the first layer of the Old Hall Manuscript and elsewhere. His identity is unclear; probably English, but possibly from France.'],\n",
       " ['Leonel_Power', 'Leonel Power', 'c. 1370', '1445', ''],\n",
       " ['Roy_Henry',\n",
       "  'Roy Henry',\n",
       "  'fl. 1410',\n",
       "  'after 1410',\n",
       "  'Very likely to be Henry V of England (1387–1422)'],\n",
       " ['Byttering',\n",
       "  'Byttering possibly Thomas Byttering',\n",
       "  'fl. c. 1410',\n",
       "  'after 1420',\n",
       "  ''],\n",
       " ['John_Plummer_(composer)', 'John Plummer', 'c. 1410', 'c. 1483', ''],\n",
       " ['Henry_Abyngdon', 'Henry Abyngdon', 'c. 1418', '1497', ''],\n",
       " ['Walter_Frye', 'Walter Frye', 'fl. c. 1450', '1474', ''],\n",
       " ['William_Horwood_(composer)',\n",
       "  'William Horwood',\n",
       "  'c. 1430',\n",
       "  '1484',\n",
       "  'Some of his music is collected in the Eton Choirbook.'],\n",
       " ['John_Hothby',\n",
       "  'John Hothby Johannes Ottobi',\n",
       "  'c. 1430',\n",
       "  '1487',\n",
       "  'English theorist and composer mainly active in Italy.'],\n",
       " ['William_Hawte', 'William Hawte William Haute', 'c. 1430', '1497', ''],\n",
       " ['Richard_Hygons', 'Richard Hygons', 'c. 1435', 'c. 1509', ''],\n",
       " ['Gilbert_Banester', 'Gilbert Banester', 'c. 1445', '1487', ''],\n",
       " ['Walter_Lambe',\n",
       "  'Walter Lambe',\n",
       "  'c. 1450',\n",
       "  'after 1504',\n",
       "  'Major contributor to the Eton Choirbook.'],\n",
       " ['Hugh_Kellyk',\n",
       "  'Hugh Kellyk',\n",
       "  'late 15th century',\n",
       "  '16th century?',\n",
       "  'has two surviving pieces, a five-part Magnificat and a seven-part Gaude flore virginali, in the Eton Choirbook.'],\n",
       " ['Edmund_Turges',\n",
       "  'Edmund Turges possibly the same as Edmund Sturges',\n",
       "  '1450',\n",
       "  '1500',\n",
       "  'Has a number of works preserved in the Eton Choirbook; at least three Magnificat settings and two masses have been lost.']]"
      ]
     },
     "execution_count": 57,
     "metadata": {},
     "output_type": "execute_result"
    }
   ],
   "source": [
    "# sample records\n",
    "lst_data_raw"
   ]
  },
  {
   "cell_type": "code",
   "execution_count": 58,
   "metadata": {},
   "outputs": [
    {
     "data": {
      "text/plain": [
       "5"
      ]
     },
     "execution_count": 58,
     "metadata": {},
     "output_type": "execute_result"
    }
   ],
   "source": [
    "# length of each record\n",
    "len(lst_data_raw[0])"
   ]
  },
  {
   "cell_type": "code",
   "execution_count": 59,
   "metadata": {},
   "outputs": [
    {
     "name": "stdout",
     "output_type": "stream",
     "text": [
      "Number of row : 16\n",
      "----------------\n",
      "<tr>\n",
      "<td><a href=\"/wiki/Pycard\" title=\"Pycard\">Pycard</a></td>\n",
      "<td><span data-sort-value=\"1370\" style=\"display:none;\"></span> <i>fl.</i> c. 1390</td>\n",
      "<td><span data-sort-value=\"1410\" style=\"display:none;\"></span>after c. 1410</td>\n",
      "<td>Has works preserved in the first layer of the <a href=\"/wiki/Old_Hall_Manuscript\" title=\"Old Hall Manuscript\">Old Hall Manuscript</a> and elsewhere. His identity is unclear; probably English, but possibly from France.\n",
      "</td></tr>\n",
      "----------------\n",
      "Second Attribute is has link reference\n",
      "----------------\n",
      "[<th width=\"150\">Name\n",
      "</th>, <th width=\"95\">Born\n",
      "</th>, <th width=\"95\">Died\n",
      "</th>, <th width=\"250\">Notes\n",
      "</th>]\n",
      "----------------\n",
      "Pycard\n"
     ]
    }
   ],
   "source": [
    "# html of each table record\n",
    "\n",
    "list_row = []\n",
    "for row in right_table.findAll(\"tr\"):\n",
    "    list_row.append(row)\n",
    "\n",
    "    \n",
    "print('Number of row :',len(list_row))\n",
    "print('----------------')\n",
    "print(list_row[first_data_row])\n",
    "print('----------------')\n",
    "print('Second Attribute is has link reference')\n",
    "print('----------------')\n",
    "print(list_row[0].findAll('th'))\n",
    "print('----------------')\n",
    "print(list_row[first_data_row].find('a').text)"
   ]
  },
  {
   "cell_type": "markdown",
   "metadata": {},
   "source": [
    "### Scrap the Data"
   ]
  },
  {
   "cell_type": "markdown",
   "metadata": {},
   "source": [
    "### Create Dictionary"
   ]
  },
  {
   "cell_type": "code",
   "execution_count": 60,
   "metadata": {},
   "outputs": [
    {
     "data": {
      "text/plain": [
       "[['Pycard',\n",
       "  'Pycard',\n",
       "  ' fl. c. 1390',\n",
       "  'after c. 1410',\n",
       "  'Has works preserved in the first layer of the Old Hall Manuscript and elsewhere. His identity is unclear; probably English, but possibly from France.'],\n",
       " ['Leonel_Power', 'Leonel Power', 'c. 1370', '1445', ''],\n",
       " ['Roy_Henry',\n",
       "  'Roy Henry',\n",
       "  'fl. 1410',\n",
       "  'after 1410',\n",
       "  'Very likely to be Henry V of England (1387–1422)'],\n",
       " ['Byttering',\n",
       "  'Byttering possibly Thomas Byttering',\n",
       "  'fl. c. 1410',\n",
       "  'after 1420',\n",
       "  '']]"
      ]
     },
     "execution_count": 60,
     "metadata": {},
     "output_type": "execute_result"
    }
   ],
   "source": [
    "lst_data_raw[:4]"
   ]
  },
  {
   "cell_type": "code",
   "execution_count": 61,
   "metadata": {},
   "outputs": [],
   "source": [
    "data = list(zip(*lst_data_raw))"
   ]
  },
  {
   "cell_type": "code",
   "execution_count": 62,
   "metadata": {},
   "outputs": [
    {
     "data": {
      "text/plain": [
       "[('Pycard', 'Leonel_Power', 'Roy_Henry', 'Byttering'),\n",
       " ('Pycard',\n",
       "  'Leonel Power',\n",
       "  'Roy Henry',\n",
       "  'Byttering possibly Thomas Byttering'),\n",
       " (' fl. c. 1390', 'c. 1370', 'fl. 1410', 'fl. c. 1410'),\n",
       " ('after c. 1410', '1445', 'after 1410', 'after 1420'),\n",
       " ('Has works preserved in the first layer of the Old Hall Manuscript and elsewhere. His identity is unclear; probably English, but possibly from France.',\n",
       "  '',\n",
       "  'Very likely to be Henry V of England (1387–1422)',\n",
       "  '')]"
      ]
     },
     "execution_count": 62,
     "metadata": {},
     "output_type": "execute_result"
    }
   ],
   "source": [
    "[i[:4] for i in data]"
   ]
  },
  {
   "cell_type": "code",
   "execution_count": 63,
   "metadata": {},
   "outputs": [],
   "source": [
    "# data"
   ]
  },
  {
   "cell_type": "code",
   "execution_count": 64,
   "metadata": {},
   "outputs": [],
   "source": [
    "dat = dict(zip(['article', 'name', 'birth', 'death', 'nationality', 'notable_21_century_works', 'comment'], data))"
   ]
  },
  {
   "cell_type": "code",
   "execution_count": 65,
   "metadata": {},
   "outputs": [],
   "source": [
    "dat = dict(zip(['article', 'name', 'birth', 'death', 'comment'], data))"
   ]
  },
  {
   "cell_type": "code",
   "execution_count": 66,
   "metadata": {},
   "outputs": [
    {
     "data": {
      "text/plain": [
       "{'article': ('Pycard',\n",
       "  'Leonel_Power',\n",
       "  'Roy_Henry',\n",
       "  'Byttering',\n",
       "  'John_Plummer_(composer)',\n",
       "  'Henry_Abyngdon',\n",
       "  'Walter_Frye',\n",
       "  'William_Horwood_(composer)',\n",
       "  'John_Hothby',\n",
       "  'William_Hawte',\n",
       "  'Richard_Hygons',\n",
       "  'Gilbert_Banester',\n",
       "  'Walter_Lambe',\n",
       "  'Hugh_Kellyk',\n",
       "  'Edmund_Turges'),\n",
       " 'name': ('Pycard',\n",
       "  'Leonel Power',\n",
       "  'Roy Henry',\n",
       "  'Byttering possibly Thomas Byttering',\n",
       "  'John Plummer',\n",
       "  'Henry Abyngdon',\n",
       "  'Walter Frye',\n",
       "  'William Horwood',\n",
       "  'John Hothby Johannes Ottobi',\n",
       "  'William Hawte William Haute',\n",
       "  'Richard Hygons',\n",
       "  'Gilbert Banester',\n",
       "  'Walter Lambe',\n",
       "  'Hugh Kellyk',\n",
       "  'Edmund Turges possibly the same as Edmund Sturges'),\n",
       " 'birth': (' fl. c. 1390',\n",
       "  'c. 1370',\n",
       "  'fl. 1410',\n",
       "  'fl. c. 1410',\n",
       "  'c. 1410',\n",
       "  'c. 1418',\n",
       "  'fl. c. 1450',\n",
       "  'c. 1430',\n",
       "  'c. 1430',\n",
       "  'c. 1430',\n",
       "  'c. 1435',\n",
       "  'c. 1445',\n",
       "  'c. 1450',\n",
       "  'late 15th century',\n",
       "  '1450'),\n",
       " 'death': ('after c. 1410',\n",
       "  '1445',\n",
       "  'after 1410',\n",
       "  'after 1420',\n",
       "  'c. 1483',\n",
       "  '1497',\n",
       "  '1474',\n",
       "  '1484',\n",
       "  '1487',\n",
       "  '1497',\n",
       "  'c. 1509',\n",
       "  '1487',\n",
       "  'after 1504',\n",
       "  '16th century?',\n",
       "  '1500'),\n",
       " 'comment': ('Has works preserved in the first layer of the Old Hall Manuscript and elsewhere. His identity is unclear; probably English, but possibly from France.',\n",
       "  '',\n",
       "  'Very likely to be Henry V of England (1387–1422)',\n",
       "  '',\n",
       "  '',\n",
       "  '',\n",
       "  '',\n",
       "  'Some of his music is collected in the Eton Choirbook.',\n",
       "  'English theorist and composer mainly active in Italy.',\n",
       "  '',\n",
       "  '',\n",
       "  '',\n",
       "  'Major contributor to the Eton Choirbook.',\n",
       "  'has two surviving pieces, a five-part Magnificat and a seven-part Gaude flore virginali, in the Eton Choirbook.',\n",
       "  'Has a number of works preserved in the Eton Choirbook; at least three Magnificat settings and two masses have been lost.')}"
      ]
     },
     "execution_count": 66,
     "metadata": {},
     "output_type": "execute_result"
    }
   ],
   "source": [
    "dat"
   ]
  },
  {
   "cell_type": "code",
   "execution_count": 30,
   "metadata": {},
   "outputs": [],
   "source": [
    "# dat['nationality'] = ['Burgundian' if not n else f\"{n}-Burgundian\" for n in dat['nationality']]"
   ]
  },
  {
   "cell_type": "markdown",
   "metadata": {},
   "source": [
    "### Create DataFrame"
   ]
  },
  {
   "cell_type": "code",
   "execution_count": 75,
   "metadata": {},
   "outputs": [
    {
     "data": {
      "text/html": [
       "<div>\n",
       "<style scoped>\n",
       "    .dataframe tbody tr th:only-of-type {\n",
       "        vertical-align: middle;\n",
       "    }\n",
       "\n",
       "    .dataframe tbody tr th {\n",
       "        vertical-align: top;\n",
       "    }\n",
       "\n",
       "    .dataframe thead th {\n",
       "        text-align: right;\n",
       "    }\n",
       "</style>\n",
       "<table border=\"1\" class=\"dataframe\">\n",
       "  <thead>\n",
       "    <tr style=\"text-align: right;\">\n",
       "      <th></th>\n",
       "      <th>article</th>\n",
       "      <th>name</th>\n",
       "      <th>birth</th>\n",
       "      <th>death</th>\n",
       "      <th>comment</th>\n",
       "    </tr>\n",
       "  </thead>\n",
       "  <tbody>\n",
       "    <tr>\n",
       "      <th>0</th>\n",
       "      <td>Pycard</td>\n",
       "      <td>Pycard</td>\n",
       "      <td>fl. c. 1390</td>\n",
       "      <td>after c. 1410</td>\n",
       "      <td>Has works preserved in the first layer of the ...</td>\n",
       "    </tr>\n",
       "    <tr>\n",
       "      <th>1</th>\n",
       "      <td>Leonel_Power</td>\n",
       "      <td>Leonel Power</td>\n",
       "      <td>c. 1370</td>\n",
       "      <td>1445</td>\n",
       "      <td></td>\n",
       "    </tr>\n",
       "    <tr>\n",
       "      <th>2</th>\n",
       "      <td>Roy_Henry</td>\n",
       "      <td>Roy Henry</td>\n",
       "      <td>fl. 1410</td>\n",
       "      <td>after 1410</td>\n",
       "      <td>Very likely to be Henry V of England (1387–1422)</td>\n",
       "    </tr>\n",
       "    <tr>\n",
       "      <th>3</th>\n",
       "      <td>Byttering</td>\n",
       "      <td>Byttering possibly Thomas Byttering</td>\n",
       "      <td>fl. c. 1410</td>\n",
       "      <td>after 1420</td>\n",
       "      <td></td>\n",
       "    </tr>\n",
       "    <tr>\n",
       "      <th>4</th>\n",
       "      <td>John_Plummer_(composer)</td>\n",
       "      <td>John Plummer</td>\n",
       "      <td>c. 1410</td>\n",
       "      <td>c. 1483</td>\n",
       "      <td></td>\n",
       "    </tr>\n",
       "  </tbody>\n",
       "</table>\n",
       "</div>"
      ],
      "text/plain": [
       "                   article                                 name         birth  \\\n",
       "0                   Pycard                               Pycard   fl. c. 1390   \n",
       "1             Leonel_Power                         Leonel Power       c. 1370   \n",
       "2                Roy_Henry                            Roy Henry      fl. 1410   \n",
       "3                Byttering  Byttering possibly Thomas Byttering   fl. c. 1410   \n",
       "4  John_Plummer_(composer)                         John Plummer       c. 1410   \n",
       "\n",
       "           death                                            comment  \n",
       "0  after c. 1410  Has works preserved in the first layer of the ...  \n",
       "1           1445                                                     \n",
       "2     after 1410   Very likely to be Henry V of England (1387–1422)  \n",
       "3     after 1420                                                     \n",
       "4        c. 1483                                                     "
      ]
     },
     "execution_count": 75,
     "metadata": {},
     "output_type": "execute_result"
    }
   ],
   "source": [
    "# convert dict to DataFrame\n",
    "df = pd.DataFrame(dat)\n",
    "\n",
    "# Top 5 records\n",
    "df.head(5)"
   ]
  },
  {
   "cell_type": "code",
   "execution_count": 71,
   "metadata": {},
   "outputs": [
    {
     "data": {
      "text/html": [
       "<div>\n",
       "<style scoped>\n",
       "    .dataframe tbody tr th:only-of-type {\n",
       "        vertical-align: middle;\n",
       "    }\n",
       "\n",
       "    .dataframe tbody tr th {\n",
       "        vertical-align: top;\n",
       "    }\n",
       "\n",
       "    .dataframe thead th {\n",
       "        text-align: right;\n",
       "    }\n",
       "</style>\n",
       "<table border=\"1\" class=\"dataframe\">\n",
       "  <thead>\n",
       "    <tr style=\"text-align: right;\">\n",
       "      <th></th>\n",
       "      <th>article</th>\n",
       "      <th>name</th>\n",
       "      <th>birth</th>\n",
       "      <th>death</th>\n",
       "      <th>comment</th>\n",
       "      <th>era</th>\n",
       "      <th>nationality</th>\n",
       "    </tr>\n",
       "  </thead>\n",
       "  <tbody>\n",
       "    <tr>\n",
       "      <th>10</th>\n",
       "      <td>Richard_Hygons</td>\n",
       "      <td>Richard Hygons</td>\n",
       "      <td>c. 1435</td>\n",
       "      <td>c. 1509</td>\n",
       "      <td></td>\n",
       "      <td>Renaissance</td>\n",
       "      <td>English</td>\n",
       "    </tr>\n",
       "    <tr>\n",
       "      <th>11</th>\n",
       "      <td>Gilbert_Banester</td>\n",
       "      <td>Gilbert Banester</td>\n",
       "      <td>c. 1445</td>\n",
       "      <td>1487</td>\n",
       "      <td></td>\n",
       "      <td>Renaissance</td>\n",
       "      <td>English</td>\n",
       "    </tr>\n",
       "    <tr>\n",
       "      <th>12</th>\n",
       "      <td>Walter_Lambe</td>\n",
       "      <td>Walter Lambe</td>\n",
       "      <td>c. 1450</td>\n",
       "      <td>after 1504</td>\n",
       "      <td>Major contributor to the Eton Choirbook.</td>\n",
       "      <td>Renaissance</td>\n",
       "      <td>English</td>\n",
       "    </tr>\n",
       "    <tr>\n",
       "      <th>13</th>\n",
       "      <td>Hugh_Kellyk</td>\n",
       "      <td>Hugh Kellyk</td>\n",
       "      <td>late 15th century</td>\n",
       "      <td>16th century?</td>\n",
       "      <td>has two surviving pieces, a five-part Magnific...</td>\n",
       "      <td>Renaissance</td>\n",
       "      <td>English</td>\n",
       "    </tr>\n",
       "    <tr>\n",
       "      <th>14</th>\n",
       "      <td>Edmund_Turges</td>\n",
       "      <td>Edmund Turges possibly the same as Edmund Sturges</td>\n",
       "      <td>1450</td>\n",
       "      <td>1500</td>\n",
       "      <td>Has a number of works preserved in the Eton Ch...</td>\n",
       "      <td>Renaissance</td>\n",
       "      <td>English</td>\n",
       "    </tr>\n",
       "  </tbody>\n",
       "</table>\n",
       "</div>"
      ],
      "text/plain": [
       "             article                                               name  \\\n",
       "10    Richard_Hygons                                     Richard Hygons   \n",
       "11  Gilbert_Banester                                   Gilbert Banester   \n",
       "12      Walter_Lambe                                       Walter Lambe   \n",
       "13       Hugh_Kellyk                                        Hugh Kellyk   \n",
       "14     Edmund_Turges  Edmund Turges possibly the same as Edmund Sturges   \n",
       "\n",
       "                birth          death  \\\n",
       "10            c. 1435        c. 1509   \n",
       "11            c. 1445           1487   \n",
       "12            c. 1450     after 1504   \n",
       "13  late 15th century  16th century?   \n",
       "14               1450           1500   \n",
       "\n",
       "                                              comment          era nationality  \n",
       "10                                                     Renaissance     English  \n",
       "11                                                     Renaissance     English  \n",
       "12           Major contributor to the Eton Choirbook.  Renaissance     English  \n",
       "13  has two surviving pieces, a five-part Magnific...  Renaissance     English  \n",
       "14  Has a number of works preserved in the Eton Ch...  Renaissance     English  "
      ]
     },
     "execution_count": 71,
     "metadata": {},
     "output_type": "execute_result"
    }
   ],
   "source": [
    "# Last 5 records\n",
    "df.tail(5)"
   ]
  },
  {
   "cell_type": "code",
   "execution_count": 76,
   "metadata": {},
   "outputs": [],
   "source": [
    "df['era'] = 'Renaissance'"
   ]
  },
  {
   "cell_type": "code",
   "execution_count": 78,
   "metadata": {},
   "outputs": [],
   "source": [
    "df['nationality'] = 'English'"
   ]
  },
  {
   "cell_type": "code",
   "execution_count": 80,
   "metadata": {},
   "outputs": [],
   "source": [
    "col_order = ['article', 'name', 'birth', 'death', 'nationality', 'comment', 'era']"
   ]
  },
  {
   "cell_type": "code",
   "execution_count": 81,
   "metadata": {},
   "outputs": [],
   "source": [
    "df = df[col_order]"
   ]
  },
  {
   "cell_type": "markdown",
   "metadata": {},
   "source": [
    "## Composing"
   ]
  },
  {
   "cell_type": "code",
   "execution_count": 73,
   "metadata": {},
   "outputs": [],
   "source": [
    "df2 = pd.read_csv('composers_Renaissance_table_.csv')"
   ]
  },
  {
   "cell_type": "code",
   "execution_count": 87,
   "metadata": {},
   "outputs": [
    {
     "data": {
      "text/html": [
       "<div>\n",
       "<style scoped>\n",
       "    .dataframe tbody tr th:only-of-type {\n",
       "        vertical-align: middle;\n",
       "    }\n",
       "\n",
       "    .dataframe tbody tr th {\n",
       "        vertical-align: top;\n",
       "    }\n",
       "\n",
       "    .dataframe thead th {\n",
       "        text-align: right;\n",
       "    }\n",
       "</style>\n",
       "<table border=\"1\" class=\"dataframe\">\n",
       "  <thead>\n",
       "    <tr style=\"text-align: right;\">\n",
       "      <th></th>\n",
       "      <th>article</th>\n",
       "      <th>name</th>\n",
       "      <th>birth</th>\n",
       "      <th>death</th>\n",
       "      <th>nationality</th>\n",
       "      <th>comment</th>\n",
       "      <th>era</th>\n",
       "    </tr>\n",
       "  </thead>\n",
       "  <tbody>\n",
       "    <tr>\n",
       "      <th>0</th>\n",
       "      <td>Johannes_Tapissier</td>\n",
       "      <td>Johannes Tapissier (Jean de Noyers)</td>\n",
       "      <td>c. 1370</td>\n",
       "      <td>before 1410</td>\n",
       "      <td>Burgundian</td>\n",
       "      <td></td>\n",
       "      <td>Renaissance</td>\n",
       "    </tr>\n",
       "    <tr>\n",
       "      <th>1</th>\n",
       "      <td>Nicolas_Grenon</td>\n",
       "      <td>Nicolas Grenon</td>\n",
       "      <td>c. 1375</td>\n",
       "      <td>1456</td>\n",
       "      <td>Burgundian</td>\n",
       "      <td></td>\n",
       "      <td>Renaissance</td>\n",
       "    </tr>\n",
       "    <tr>\n",
       "      <th>2</th>\n",
       "      <td>Pierre_Fontaine_(composer)</td>\n",
       "      <td>Pierre Fontaine</td>\n",
       "      <td>c. 1380</td>\n",
       "      <td>c. 1450</td>\n",
       "      <td>Burgundian</td>\n",
       "      <td></td>\n",
       "      <td>Renaissance</td>\n",
       "    </tr>\n",
       "    <tr>\n",
       "      <th>3</th>\n",
       "      <td>Jacobus_Vide</td>\n",
       "      <td>Jacobus Vide</td>\n",
       "      <td>fl. 1405?</td>\n",
       "      <td>after 1433</td>\n",
       "      <td>Burgundian</td>\n",
       "      <td></td>\n",
       "      <td>Renaissance</td>\n",
       "    </tr>\n",
       "    <tr>\n",
       "      <th>4</th>\n",
       "      <td>Guillaume_Legrant</td>\n",
       "      <td>Guillaume Legrant (Lemarcherier)</td>\n",
       "      <td>fl. 1405</td>\n",
       "      <td>after 1449</td>\n",
       "      <td>Burgundian</td>\n",
       "      <td></td>\n",
       "      <td>Renaissance</td>\n",
       "    </tr>\n",
       "  </tbody>\n",
       "</table>\n",
       "</div>"
      ],
      "text/plain": [
       "                      article                                 name      birth  \\\n",
       "0          Johannes_Tapissier  Johannes Tapissier (Jean de Noyers)    c. 1370   \n",
       "1              Nicolas_Grenon                       Nicolas Grenon    c. 1375   \n",
       "2  Pierre_Fontaine_(composer)                      Pierre Fontaine    c. 1380   \n",
       "3                Jacobus_Vide                         Jacobus Vide  fl. 1405?   \n",
       "4           Guillaume_Legrant     Guillaume Legrant (Lemarcherier)   fl. 1405   \n",
       "\n",
       "         death nationality comment          era  \n",
       "0  before 1410  Burgundian          Renaissance  \n",
       "1         1456  Burgundian          Renaissance  \n",
       "2      c. 1450  Burgundian          Renaissance  \n",
       "3   after 1433  Burgundian          Renaissance  \n",
       "4   after 1449  Burgundian          Renaissance  "
      ]
     },
     "execution_count": 87,
     "metadata": {},
     "output_type": "execute_result"
    }
   ],
   "source": [
    "df2.head()"
   ]
  },
  {
   "cell_type": "code",
   "execution_count": 84,
   "metadata": {},
   "outputs": [],
   "source": [
    "df2['comment'] = ''"
   ]
  },
  {
   "cell_type": "code",
   "execution_count": 88,
   "metadata": {},
   "outputs": [],
   "source": [
    "df2 = df2[col_order]"
   ]
  },
  {
   "cell_type": "code",
   "execution_count": 89,
   "metadata": {},
   "outputs": [],
   "source": [
    "dfc = pd.concat([df, df2])"
   ]
  },
  {
   "cell_type": "code",
   "execution_count": 91,
   "metadata": {},
   "outputs": [
    {
     "data": {
      "text/plain": [
       "[15, 21, 36]"
      ]
     },
     "execution_count": 91,
     "metadata": {},
     "output_type": "execute_result"
    }
   ],
   "source": [
    "list(map(len, [df, df2, dfc]))"
   ]
  },
  {
   "cell_type": "markdown",
   "metadata": {},
   "source": [
    "### Saving"
   ]
  },
  {
   "cell_type": "code",
   "execution_count": 92,
   "metadata": {},
   "outputs": [],
   "source": [
    "df = dfc"
   ]
  },
  {
   "cell_type": "code",
   "execution_count": 93,
   "metadata": {},
   "outputs": [],
   "source": [
    "df.to_csv('composers_Renaissance_table_.csv', index=False)"
   ]
  },
  {
   "cell_type": "code",
   "execution_count": 94,
   "metadata": {},
   "outputs": [
    {
     "data": {
      "text/html": [
       "<div>\n",
       "<style scoped>\n",
       "    .dataframe tbody tr th:only-of-type {\n",
       "        vertical-align: middle;\n",
       "    }\n",
       "\n",
       "    .dataframe tbody tr th {\n",
       "        vertical-align: top;\n",
       "    }\n",
       "\n",
       "    .dataframe thead th {\n",
       "        text-align: right;\n",
       "    }\n",
       "</style>\n",
       "<table border=\"1\" class=\"dataframe\">\n",
       "  <thead>\n",
       "    <tr style=\"text-align: right;\">\n",
       "      <th></th>\n",
       "      <th>article</th>\n",
       "      <th>name</th>\n",
       "      <th>birth</th>\n",
       "      <th>death</th>\n",
       "      <th>nationality</th>\n",
       "      <th>comment</th>\n",
       "      <th>era</th>\n",
       "    </tr>\n",
       "  </thead>\n",
       "  <tbody>\n",
       "    <tr>\n",
       "      <th>0</th>\n",
       "      <td>Pycard</td>\n",
       "      <td>Pycard</td>\n",
       "      <td>fl. c. 1390</td>\n",
       "      <td>after c. 1410</td>\n",
       "      <td>English</td>\n",
       "      <td>Has works preserved in the first layer of the ...</td>\n",
       "      <td>Renaissance</td>\n",
       "    </tr>\n",
       "    <tr>\n",
       "      <th>1</th>\n",
       "      <td>Leonel_Power</td>\n",
       "      <td>Leonel Power</td>\n",
       "      <td>c. 1370</td>\n",
       "      <td>1445</td>\n",
       "      <td>English</td>\n",
       "      <td></td>\n",
       "      <td>Renaissance</td>\n",
       "    </tr>\n",
       "    <tr>\n",
       "      <th>2</th>\n",
       "      <td>Roy_Henry</td>\n",
       "      <td>Roy Henry</td>\n",
       "      <td>fl. 1410</td>\n",
       "      <td>after 1410</td>\n",
       "      <td>English</td>\n",
       "      <td>Very likely to be Henry V of England (1387–1422)</td>\n",
       "      <td>Renaissance</td>\n",
       "    </tr>\n",
       "    <tr>\n",
       "      <th>3</th>\n",
       "      <td>Byttering</td>\n",
       "      <td>Byttering possibly Thomas Byttering</td>\n",
       "      <td>fl. c. 1410</td>\n",
       "      <td>after 1420</td>\n",
       "      <td>English</td>\n",
       "      <td></td>\n",
       "      <td>Renaissance</td>\n",
       "    </tr>\n",
       "    <tr>\n",
       "      <th>4</th>\n",
       "      <td>John_Plummer_(composer)</td>\n",
       "      <td>John Plummer</td>\n",
       "      <td>c. 1410</td>\n",
       "      <td>c. 1483</td>\n",
       "      <td>English</td>\n",
       "      <td></td>\n",
       "      <td>Renaissance</td>\n",
       "    </tr>\n",
       "    <tr>\n",
       "      <th>5</th>\n",
       "      <td>Henry_Abyngdon</td>\n",
       "      <td>Henry Abyngdon</td>\n",
       "      <td>c. 1418</td>\n",
       "      <td>1497</td>\n",
       "      <td>English</td>\n",
       "      <td></td>\n",
       "      <td>Renaissance</td>\n",
       "    </tr>\n",
       "    <tr>\n",
       "      <th>6</th>\n",
       "      <td>Walter_Frye</td>\n",
       "      <td>Walter Frye</td>\n",
       "      <td>fl. c. 1450</td>\n",
       "      <td>1474</td>\n",
       "      <td>English</td>\n",
       "      <td></td>\n",
       "      <td>Renaissance</td>\n",
       "    </tr>\n",
       "    <tr>\n",
       "      <th>7</th>\n",
       "      <td>William_Horwood_(composer)</td>\n",
       "      <td>William Horwood</td>\n",
       "      <td>c. 1430</td>\n",
       "      <td>1484</td>\n",
       "      <td>English</td>\n",
       "      <td>Some of his music is collected in the Eton Cho...</td>\n",
       "      <td>Renaissance</td>\n",
       "    </tr>\n",
       "    <tr>\n",
       "      <th>8</th>\n",
       "      <td>John_Hothby</td>\n",
       "      <td>John Hothby Johannes Ottobi</td>\n",
       "      <td>c. 1430</td>\n",
       "      <td>1487</td>\n",
       "      <td>English</td>\n",
       "      <td>English theorist and composer mainly active in...</td>\n",
       "      <td>Renaissance</td>\n",
       "    </tr>\n",
       "    <tr>\n",
       "      <th>9</th>\n",
       "      <td>William_Hawte</td>\n",
       "      <td>William Hawte William Haute</td>\n",
       "      <td>c. 1430</td>\n",
       "      <td>1497</td>\n",
       "      <td>English</td>\n",
       "      <td></td>\n",
       "      <td>Renaissance</td>\n",
       "    </tr>\n",
       "    <tr>\n",
       "      <th>10</th>\n",
       "      <td>Richard_Hygons</td>\n",
       "      <td>Richard Hygons</td>\n",
       "      <td>c. 1435</td>\n",
       "      <td>c. 1509</td>\n",
       "      <td>English</td>\n",
       "      <td></td>\n",
       "      <td>Renaissance</td>\n",
       "    </tr>\n",
       "    <tr>\n",
       "      <th>11</th>\n",
       "      <td>Gilbert_Banester</td>\n",
       "      <td>Gilbert Banester</td>\n",
       "      <td>c. 1445</td>\n",
       "      <td>1487</td>\n",
       "      <td>English</td>\n",
       "      <td></td>\n",
       "      <td>Renaissance</td>\n",
       "    </tr>\n",
       "    <tr>\n",
       "      <th>12</th>\n",
       "      <td>Walter_Lambe</td>\n",
       "      <td>Walter Lambe</td>\n",
       "      <td>c. 1450</td>\n",
       "      <td>after 1504</td>\n",
       "      <td>English</td>\n",
       "      <td>Major contributor to the Eton Choirbook.</td>\n",
       "      <td>Renaissance</td>\n",
       "    </tr>\n",
       "    <tr>\n",
       "      <th>13</th>\n",
       "      <td>Hugh_Kellyk</td>\n",
       "      <td>Hugh Kellyk</td>\n",
       "      <td>late 15th century</td>\n",
       "      <td>16th century?</td>\n",
       "      <td>English</td>\n",
       "      <td>has two surviving pieces, a five-part Magnific...</td>\n",
       "      <td>Renaissance</td>\n",
       "    </tr>\n",
       "    <tr>\n",
       "      <th>14</th>\n",
       "      <td>Edmund_Turges</td>\n",
       "      <td>Edmund Turges possibly the same as Edmund Sturges</td>\n",
       "      <td>1450</td>\n",
       "      <td>1500</td>\n",
       "      <td>English</td>\n",
       "      <td>Has a number of works preserved in the Eton Ch...</td>\n",
       "      <td>Renaissance</td>\n",
       "    </tr>\n",
       "    <tr>\n",
       "      <th>0</th>\n",
       "      <td>Johannes_Tapissier</td>\n",
       "      <td>Johannes Tapissier (Jean de Noyers)</td>\n",
       "      <td>c. 1370</td>\n",
       "      <td>before 1410</td>\n",
       "      <td>Burgundian</td>\n",
       "      <td></td>\n",
       "      <td>Renaissance</td>\n",
       "    </tr>\n",
       "    <tr>\n",
       "      <th>1</th>\n",
       "      <td>Nicolas_Grenon</td>\n",
       "      <td>Nicolas Grenon</td>\n",
       "      <td>c. 1375</td>\n",
       "      <td>1456</td>\n",
       "      <td>Burgundian</td>\n",
       "      <td></td>\n",
       "      <td>Renaissance</td>\n",
       "    </tr>\n",
       "    <tr>\n",
       "      <th>2</th>\n",
       "      <td>Pierre_Fontaine_(composer)</td>\n",
       "      <td>Pierre Fontaine</td>\n",
       "      <td>c. 1380</td>\n",
       "      <td>c. 1450</td>\n",
       "      <td>Burgundian</td>\n",
       "      <td></td>\n",
       "      <td>Renaissance</td>\n",
       "    </tr>\n",
       "    <tr>\n",
       "      <th>3</th>\n",
       "      <td>Jacobus_Vide</td>\n",
       "      <td>Jacobus Vide</td>\n",
       "      <td>fl. 1405?</td>\n",
       "      <td>after 1433</td>\n",
       "      <td>Burgundian</td>\n",
       "      <td></td>\n",
       "      <td>Renaissance</td>\n",
       "    </tr>\n",
       "    <tr>\n",
       "      <th>4</th>\n",
       "      <td>Guillaume_Legrant</td>\n",
       "      <td>Guillaume Legrant (Lemarcherier)</td>\n",
       "      <td>fl. 1405</td>\n",
       "      <td>after 1449</td>\n",
       "      <td>Burgundian</td>\n",
       "      <td></td>\n",
       "      <td>Renaissance</td>\n",
       "    </tr>\n",
       "    <tr>\n",
       "      <th>5</th>\n",
       "      <td>John_Dunstaple</td>\n",
       "      <td>John Dunstaple (or Dunstable)</td>\n",
       "      <td>c. 1390</td>\n",
       "      <td>1453</td>\n",
       "      <td>English-Burgundian</td>\n",
       "      <td></td>\n",
       "      <td>Renaissance</td>\n",
       "    </tr>\n",
       "    <tr>\n",
       "      <th>6</th>\n",
       "      <td>Guillaume_Dufay</td>\n",
       "      <td>Guillaume Dufay (Guillaume Du Fay)</td>\n",
       "      <td>1397</td>\n",
       "      <td>1474</td>\n",
       "      <td>Burgundian</td>\n",
       "      <td></td>\n",
       "      <td>Renaissance</td>\n",
       "    </tr>\n",
       "    <tr>\n",
       "      <th>7</th>\n",
       "      <td>Johannes_Brassart</td>\n",
       "      <td>Johannes Brassart</td>\n",
       "      <td>c. 1400</td>\n",
       "      <td>1455</td>\n",
       "      <td>Burgundian</td>\n",
       "      <td></td>\n",
       "      <td>Renaissance</td>\n",
       "    </tr>\n",
       "    <tr>\n",
       "      <th>8</th>\n",
       "      <td>Johannes_Legrant</td>\n",
       "      <td>Johannes Legrant</td>\n",
       "      <td>fl. c. 1420</td>\n",
       "      <td>after 1440</td>\n",
       "      <td>Burgundian</td>\n",
       "      <td></td>\n",
       "      <td>Renaissance</td>\n",
       "    </tr>\n",
       "    <tr>\n",
       "      <th>9</th>\n",
       "      <td>Gilles_Binchois</td>\n",
       "      <td>Gilles Binchois (Gilles de Bins)</td>\n",
       "      <td>c. 1400</td>\n",
       "      <td>1460</td>\n",
       "      <td>Burgundian</td>\n",
       "      <td></td>\n",
       "      <td>Renaissance</td>\n",
       "    </tr>\n",
       "    <tr>\n",
       "      <th>10</th>\n",
       "      <td>Hugo_de_Lantins</td>\n",
       "      <td>Hugo de Lantins</td>\n",
       "      <td>fl. c. 1420</td>\n",
       "      <td>after 1430</td>\n",
       "      <td>Burgundian</td>\n",
       "      <td></td>\n",
       "      <td>Renaissance</td>\n",
       "    </tr>\n",
       "    <tr>\n",
       "      <th>11</th>\n",
       "      <td>Arnold_de_Lantins</td>\n",
       "      <td>Arnold de Lantins</td>\n",
       "      <td>fl. 1423</td>\n",
       "      <td>1431/1432</td>\n",
       "      <td>Burgundian</td>\n",
       "      <td></td>\n",
       "      <td>Renaissance</td>\n",
       "    </tr>\n",
       "    <tr>\n",
       "      <th>12</th>\n",
       "      <td>Reginaldus_Libert</td>\n",
       "      <td>Reginaldus Libert</td>\n",
       "      <td>fl. c. 1425</td>\n",
       "      <td>after 1435</td>\n",
       "      <td>Burgundian</td>\n",
       "      <td></td>\n",
       "      <td>Renaissance</td>\n",
       "    </tr>\n",
       "    <tr>\n",
       "      <th>13</th>\n",
       "      <td>Jean_Cousin_(composer)</td>\n",
       "      <td>Jean Cousin</td>\n",
       "      <td>before 1425</td>\n",
       "      <td>after 1475</td>\n",
       "      <td>Burgundian</td>\n",
       "      <td></td>\n",
       "      <td>Renaissance</td>\n",
       "    </tr>\n",
       "    <tr>\n",
       "      <th>14</th>\n",
       "      <td>Gilles_Joye</td>\n",
       "      <td>Gilles Joye</td>\n",
       "      <td>1424/1425</td>\n",
       "      <td>1483</td>\n",
       "      <td>Burgundian</td>\n",
       "      <td></td>\n",
       "      <td>Renaissance</td>\n",
       "    </tr>\n",
       "    <tr>\n",
       "      <th>15</th>\n",
       "      <td>Guillaume_le_Rouge</td>\n",
       "      <td>Guillaume le Rouge</td>\n",
       "      <td>fl. 1450</td>\n",
       "      <td>after 1465</td>\n",
       "      <td>Burgundian</td>\n",
       "      <td></td>\n",
       "      <td>Renaissance</td>\n",
       "    </tr>\n",
       "    <tr>\n",
       "      <th>16</th>\n",
       "      <td>Robert_Morton_(composer)</td>\n",
       "      <td>Robert Morton</td>\n",
       "      <td>c. 1430</td>\n",
       "      <td>1479</td>\n",
       "      <td>English-Burgundian</td>\n",
       "      <td></td>\n",
       "      <td>Renaissance</td>\n",
       "    </tr>\n",
       "    <tr>\n",
       "      <th>17</th>\n",
       "      <td>Antoine_Busnois</td>\n",
       "      <td>Antoine Busnois</td>\n",
       "      <td>c. 1430</td>\n",
       "      <td>1492</td>\n",
       "      <td>Burgundian</td>\n",
       "      <td></td>\n",
       "      <td>Renaissance</td>\n",
       "    </tr>\n",
       "    <tr>\n",
       "      <th>18</th>\n",
       "      <td>Adrien_Basin</td>\n",
       "      <td>Adrien Basin</td>\n",
       "      <td>fl. 1457</td>\n",
       "      <td>after 1498</td>\n",
       "      <td>Burgundian</td>\n",
       "      <td></td>\n",
       "      <td>Renaissance</td>\n",
       "    </tr>\n",
       "    <tr>\n",
       "      <th>19</th>\n",
       "      <td>Hayne_van_Ghizeghem</td>\n",
       "      <td>Hayne van Ghizeghem</td>\n",
       "      <td>c. 1445</td>\n",
       "      <td>after 1476</td>\n",
       "      <td>Burgundian</td>\n",
       "      <td></td>\n",
       "      <td>Renaissance</td>\n",
       "    </tr>\n",
       "    <tr>\n",
       "      <th>20</th>\n",
       "      <td>Jean-Baptiste_Besard</td>\n",
       "      <td>Jean-Baptiste Besard</td>\n",
       "      <td>1567</td>\n",
       "      <td>1625</td>\n",
       "      <td>Burgundian</td>\n",
       "      <td></td>\n",
       "      <td>Renaissance</td>\n",
       "    </tr>\n",
       "  </tbody>\n",
       "</table>\n",
       "</div>"
      ],
      "text/plain": [
       "                       article  \\\n",
       "0                       Pycard   \n",
       "1                 Leonel_Power   \n",
       "2                    Roy_Henry   \n",
       "3                    Byttering   \n",
       "4      John_Plummer_(composer)   \n",
       "5               Henry_Abyngdon   \n",
       "6                  Walter_Frye   \n",
       "7   William_Horwood_(composer)   \n",
       "8                  John_Hothby   \n",
       "9                William_Hawte   \n",
       "10              Richard_Hygons   \n",
       "11            Gilbert_Banester   \n",
       "12                Walter_Lambe   \n",
       "13                 Hugh_Kellyk   \n",
       "14               Edmund_Turges   \n",
       "0           Johannes_Tapissier   \n",
       "1               Nicolas_Grenon   \n",
       "2   Pierre_Fontaine_(composer)   \n",
       "3                 Jacobus_Vide   \n",
       "4            Guillaume_Legrant   \n",
       "5               John_Dunstaple   \n",
       "6              Guillaume_Dufay   \n",
       "7            Johannes_Brassart   \n",
       "8             Johannes_Legrant   \n",
       "9              Gilles_Binchois   \n",
       "10             Hugo_de_Lantins   \n",
       "11           Arnold_de_Lantins   \n",
       "12           Reginaldus_Libert   \n",
       "13      Jean_Cousin_(composer)   \n",
       "14                 Gilles_Joye   \n",
       "15          Guillaume_le_Rouge   \n",
       "16    Robert_Morton_(composer)   \n",
       "17             Antoine_Busnois   \n",
       "18                Adrien_Basin   \n",
       "19         Hayne_van_Ghizeghem   \n",
       "20        Jean-Baptiste_Besard   \n",
       "\n",
       "                                                 name              birth  \\\n",
       "0                                              Pycard        fl. c. 1390   \n",
       "1                                        Leonel Power            c. 1370   \n",
       "2                                           Roy Henry           fl. 1410   \n",
       "3                 Byttering possibly Thomas Byttering        fl. c. 1410   \n",
       "4                                        John Plummer            c. 1410   \n",
       "5                                      Henry Abyngdon            c. 1418   \n",
       "6                                         Walter Frye        fl. c. 1450   \n",
       "7                                     William Horwood            c. 1430   \n",
       "8                         John Hothby Johannes Ottobi            c. 1430   \n",
       "9                         William Hawte William Haute            c. 1430   \n",
       "10                                     Richard Hygons            c. 1435   \n",
       "11                                   Gilbert Banester            c. 1445   \n",
       "12                                       Walter Lambe            c. 1450   \n",
       "13                                        Hugh Kellyk  late 15th century   \n",
       "14  Edmund Turges possibly the same as Edmund Sturges               1450   \n",
       "0                 Johannes Tapissier (Jean de Noyers)            c. 1370   \n",
       "1                                      Nicolas Grenon            c. 1375   \n",
       "2                                     Pierre Fontaine            c. 1380   \n",
       "3                                        Jacobus Vide          fl. 1405?   \n",
       "4                    Guillaume Legrant (Lemarcherier)           fl. 1405   \n",
       "5                       John Dunstaple (or Dunstable)            c. 1390   \n",
       "6                  Guillaume Dufay (Guillaume Du Fay)               1397   \n",
       "7                                   Johannes Brassart            c. 1400   \n",
       "8                                    Johannes Legrant        fl. c. 1420   \n",
       "9                    Gilles Binchois (Gilles de Bins)            c. 1400   \n",
       "10                                    Hugo de Lantins        fl. c. 1420   \n",
       "11                                  Arnold de Lantins           fl. 1423   \n",
       "12                                  Reginaldus Libert        fl. c. 1425   \n",
       "13                                        Jean Cousin        before 1425   \n",
       "14                                        Gilles Joye          1424/1425   \n",
       "15                                 Guillaume le Rouge           fl. 1450   \n",
       "16                                      Robert Morton            c. 1430   \n",
       "17                                    Antoine Busnois            c. 1430   \n",
       "18                                       Adrien Basin           fl. 1457   \n",
       "19                                Hayne van Ghizeghem            c. 1445   \n",
       "20                               Jean-Baptiste Besard               1567   \n",
       "\n",
       "            death         nationality  \\\n",
       "0   after c. 1410             English   \n",
       "1            1445             English   \n",
       "2      after 1410             English   \n",
       "3      after 1420             English   \n",
       "4         c. 1483             English   \n",
       "5            1497             English   \n",
       "6            1474             English   \n",
       "7            1484             English   \n",
       "8            1487             English   \n",
       "9            1497             English   \n",
       "10        c. 1509             English   \n",
       "11           1487             English   \n",
       "12     after 1504             English   \n",
       "13  16th century?             English   \n",
       "14           1500             English   \n",
       "0     before 1410          Burgundian   \n",
       "1            1456          Burgundian   \n",
       "2         c. 1450          Burgundian   \n",
       "3      after 1433          Burgundian   \n",
       "4      after 1449          Burgundian   \n",
       "5            1453  English-Burgundian   \n",
       "6            1474          Burgundian   \n",
       "7            1455          Burgundian   \n",
       "8      after 1440          Burgundian   \n",
       "9            1460          Burgundian   \n",
       "10     after 1430          Burgundian   \n",
       "11      1431/1432          Burgundian   \n",
       "12     after 1435          Burgundian   \n",
       "13     after 1475          Burgundian   \n",
       "14           1483          Burgundian   \n",
       "15     after 1465          Burgundian   \n",
       "16           1479  English-Burgundian   \n",
       "17           1492          Burgundian   \n",
       "18     after 1498          Burgundian   \n",
       "19     after 1476          Burgundian   \n",
       "20           1625          Burgundian   \n",
       "\n",
       "                                              comment          era  \n",
       "0   Has works preserved in the first layer of the ...  Renaissance  \n",
       "1                                                      Renaissance  \n",
       "2    Very likely to be Henry V of England (1387–1422)  Renaissance  \n",
       "3                                                      Renaissance  \n",
       "4                                                      Renaissance  \n",
       "5                                                      Renaissance  \n",
       "6                                                      Renaissance  \n",
       "7   Some of his music is collected in the Eton Cho...  Renaissance  \n",
       "8   English theorist and composer mainly active in...  Renaissance  \n",
       "9                                                      Renaissance  \n",
       "10                                                     Renaissance  \n",
       "11                                                     Renaissance  \n",
       "12           Major contributor to the Eton Choirbook.  Renaissance  \n",
       "13  has two surviving pieces, a five-part Magnific...  Renaissance  \n",
       "14  Has a number of works preserved in the Eton Ch...  Renaissance  \n",
       "0                                                      Renaissance  \n",
       "1                                                      Renaissance  \n",
       "2                                                      Renaissance  \n",
       "3                                                      Renaissance  \n",
       "4                                                      Renaissance  \n",
       "5                                                      Renaissance  \n",
       "6                                                      Renaissance  \n",
       "7                                                      Renaissance  \n",
       "8                                                      Renaissance  \n",
       "9                                                      Renaissance  \n",
       "10                                                     Renaissance  \n",
       "11                                                     Renaissance  \n",
       "12                                                     Renaissance  \n",
       "13                                                     Renaissance  \n",
       "14                                                     Renaissance  \n",
       "15                                                     Renaissance  \n",
       "16                                                     Renaissance  \n",
       "17                                                     Renaissance  \n",
       "18                                                     Renaissance  \n",
       "19                                                     Renaissance  \n",
       "20                                                     Renaissance  "
      ]
     },
     "execution_count": 94,
     "metadata": {},
     "output_type": "execute_result"
    }
   ],
   "source": [
    "df[~(df.death == \"\")]"
   ]
  },
  {
   "cell_type": "code",
   "execution_count": 95,
   "metadata": {},
   "outputs": [
    {
     "data": {
      "text/html": [
       "<div>\n",
       "<style scoped>\n",
       "    .dataframe tbody tr th:only-of-type {\n",
       "        vertical-align: middle;\n",
       "    }\n",
       "\n",
       "    .dataframe tbody tr th {\n",
       "        vertical-align: top;\n",
       "    }\n",
       "\n",
       "    .dataframe thead th {\n",
       "        text-align: right;\n",
       "    }\n",
       "</style>\n",
       "<table border=\"1\" class=\"dataframe\">\n",
       "  <thead>\n",
       "    <tr style=\"text-align: right;\">\n",
       "      <th></th>\n",
       "      <th>article</th>\n",
       "      <th>name</th>\n",
       "      <th>birth</th>\n",
       "      <th>death</th>\n",
       "      <th>nationality</th>\n",
       "      <th>comment</th>\n",
       "      <th>era</th>\n",
       "    </tr>\n",
       "  </thead>\n",
       "  <tbody>\n",
       "  </tbody>\n",
       "</table>\n",
       "</div>"
      ],
      "text/plain": [
       "Empty DataFrame\n",
       "Columns: [article, name, birth, death, nationality, comment, era]\n",
       "Index: []"
      ]
     },
     "execution_count": 95,
     "metadata": {},
     "output_type": "execute_result"
    }
   ],
   "source": [
    "df[df.article == '']"
   ]
  },
  {
   "cell_type": "code",
   "execution_count": 96,
   "metadata": {},
   "outputs": [
    {
     "data": {
      "text/plain": [
       "article        object\n",
       "name           object\n",
       "birth          object\n",
       "death          object\n",
       "nationality    object\n",
       "comment        object\n",
       "era            object\n",
       "dtype: object"
      ]
     },
     "execution_count": 96,
     "metadata": {},
     "output_type": "execute_result"
    }
   ],
   "source": [
    "df.dtypes"
   ]
  },
  {
   "cell_type": "code",
   "execution_count": null,
   "metadata": {},
   "outputs": [],
   "source": []
  }
 ],
 "metadata": {
  "kernelspec": {
   "display_name": "Python 3 (ipykernel)",
   "language": "python",
   "name": "python3"
  },
  "language_info": {
   "codemirror_mode": {
    "name": "ipython",
    "version": 3
   },
   "file_extension": ".py",
   "mimetype": "text/x-python",
   "name": "python",
   "nbconvert_exporter": "python",
   "pygments_lexer": "ipython3",
   "version": "3.9.6"
  },
  "toc": {
   "base_numbering": 1,
   "nav_menu": {},
   "number_sections": true,
   "sideBar": true,
   "skip_h1_title": false,
   "title_cell": "Table of Contents",
   "title_sidebar": "Contents",
   "toc_cell": true,
   "toc_position": {},
   "toc_section_display": true,
   "toc_window_display": true
  },
  "varInspector": {
   "cols": {
    "lenName": 16,
    "lenType": 16,
    "lenVar": 40
   },
   "kernels_config": {
    "python": {
     "delete_cmd_postfix": "",
     "delete_cmd_prefix": "del ",
     "library": "var_list.py",
     "varRefreshCmd": "print(var_dic_list())"
    },
    "r": {
     "delete_cmd_postfix": ") ",
     "delete_cmd_prefix": "rm(",
     "library": "var_list.r",
     "varRefreshCmd": "cat(var_dic_list()) "
    }
   },
   "types_to_exclude": [
    "module",
    "function",
    "builtin_function_or_method",
    "instance",
    "_Feature"
   ],
   "window_display": false
  }
 },
 "nbformat": 4,
 "nbformat_minor": 4
}
